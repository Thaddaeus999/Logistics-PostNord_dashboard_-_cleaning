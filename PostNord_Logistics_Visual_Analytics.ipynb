{
 "cells": [
  {
   "cell_type": "markdown",
   "id": "68f188a6-a99b-4b81-b15b-92e5c36e90c7",
   "metadata": {},
   "source": [
    "# PostNord - Logistics dataset - Cleaning then vizualising (tablau)"
   ]
  },
  {
   "cell_type": "code",
   "execution_count": 90,
   "id": "cc788839-f659-4385-846b-516a923b3548",
   "metadata": {},
   "outputs": [],
   "source": [
    "import pandas as pd\n",
    "import numpy as np\n",
    "import os\n",
    "import glob\n",
    "import seaborn as sns\n",
    "import matplotlib.pyplot as plt\n",
    "import warnings\n",
    "sns.set_palette('bright')\n",
    "from statsmodels.tsa.arima.model import ARIMA\n",
    "from statsmodels.graphics.tsaplots import plot_acf, plot_pacf\n",
    "from statsmodels.tsa.stattools import adfuller\n",
    "import statsmodels.api as sm\n",
    "import glob\n",
    "import dask.dataframe as dd\n",
    "import dask\n",
    "import pandas as pd\n",
    "import warnings\n",
    "import glob\n",
    "import warnings\n",
    "import pandas as pd\n",
    "from concurrent.futures import ThreadPoolExecutor"
   ]
  },
  {
   "cell_type": "code",
   "execution_count": 91,
   "id": "bd71bc1b-a3da-4e45-a1e7-9da2c9209622",
   "metadata": {
    "scrolled": true
   },
   "outputs": [
    {
     "name": "stdout",
     "output_type": "stream",
     "text": [
      "WARNING *** OLE2 inconsistency: SSCS size is 0 but SSAT size is non-zero\n",
      "WARNING *** OLE2 inconsistency: SSCS size is 0 but SSAT size is non-zero\n",
      "WARNING *** OLE2 inconsistency: SSCS size is 0 but SSAT size is non-zero\n",
      "WARNING *** OLE2 inconsistency: SSCS size is 0 but SSAT size is non-zero\n",
      "WARNING *** OLE2 inconsistency: SSCS size is 0 but SSAT size is non-zero\n",
      "WARNING *** OLE2 inconsistency: SSCS size is 0 but SSAT size is non-zero\n",
      "WARNING *** OLE2 inconsistency: SSCS size is 0 but SSAT size is non-zero\n",
      "WARNING *** OLE2 inconsistency: SSCS size is 0 but SSAT size is non-zero\n",
      "WARNING *** OLE2 inconsistency: SSCS size is 0 but SSAT size is non-zero\n",
      "WARNING *** OLE2 inconsistency: SSCS size is 0 but SSAT size is non-zero\n",
      "WARNING *** OLE2 inconsistency: SSCS size is 0 but SSAT size is non-zero\n",
      "WARNING *** OLE2 inconsistency: SSCS size is 0 but SSAT size is non-zero\n",
      "WARNING *** OLE2 inconsistency: SSCS size is 0 but SSAT size is non-zero\n",
      "WARNING *** OLE2 inconsistency: SSCS size is 0 but SSAT size is non-zero\n",
      "WARNING *** OLE2 inconsistency: SSCS size is 0 but SSAT size is non-zero\n",
      "WARNING *** OLE2 inconsistency: SSCS size is 0 but SSAT size is non-zero\n",
      "WARNING *** OLE2 inconsistency: SSCS size is 0 but SSAT size is non-zero\n",
      "WARNING *** OLE2 inconsistency: SSCS size is 0 but SSAT size is non-zero\n",
      "WARNING *** OLE2 inconsistency: SSCS size is 0 but SSAT size is non-zero\n",
      "WARNING *** OLE2 inconsistency: SSCS size is 0 but SSAT size is non-zero\n",
      "WARNING *** OLE2 inconsistency: SSCS size is 0 but SSAT size is non-zero\n",
      "WARNING *** OLE2 inconsistency: SSCS size is 0 but SSAT size is non-zero\n",
      "WARNING *** OLE2 inconsistency: SSCS size is 0 but SSAT size is non-zero\n",
      "WARNING *** OLE2 inconsistency: SSCS size is 0 but SSAT size is non-zero\n",
      "WARNING *** OLE2 inconsistency: SSCS size is 0 but SSAT size is non-zero\n",
      "WARNING *** OLE2 inconsistency: SSCS size is 0 but SSAT size is non-zero\n",
      "WARNING *** OLE2 inconsistency: SSCS size is 0 but SSAT size is non-zero\n",
      "WARNING *** OLE2 inconsistency: SSCS size is 0 but SSAT size is non-zero\n",
      "WARNING *** OLE2 inconsistency: SSCS size is 0 but SSAT size is non-zero\n",
      "WARNING *** OLE2 inconsistency: SSCS size is 0 but SSAT size is non-zero\n",
      "WARNING *** OLE2 inconsistency: SSCS size is 0 but SSAT size is non-zero\n",
      "WARNING *** OLE2 inconsistency: SSCS size is 0 but SSAT size is non-zero\n",
      "WARNING *** OLE2 inconsistency: SSCS size is 0 but SSAT size is non-zero\n",
      "WARNING *** OLE2 inconsistency: SSCS size is 0 but SSAT size is non-zero\n",
      "WARNING *** OLE2 inconsistency: SSCS size is 0 but SSAT size is non-zero\n",
      "WARNING *** OLE2 inconsistency: SSCS size is 0 but SSAT size is non-zero\n",
      "WARNING *** OLE2 inconsistency: SSCS size is 0 but SSAT size is non-zero\n",
      "WARNING *** OLE2 inconsistency: SSCS size is 0 but SSAT size is non-zero\n",
      "WARNING *** OLE2 inconsistency: SSCS size is 0 but SSAT size is non-zero\n",
      "WARNING *** OLE2 inconsistency: SSCS size is 0 but SSAT size is non-zero\n",
      "WARNING *** OLE2 inconsistency: SSCS size is 0 but SSAT size is non-zero\n",
      "WARNING *** OLE2 inconsistency: SSCS size is 0 but SSAT size is non-zero\n",
      "WARNING *** OLE2 inconsistency: SSCS size is 0 but SSAT size is non-zero\n",
      "WARNING *** OLE2 inconsistency: SSCS size is 0 but SSAT size is non-zero\n",
      "WARNING *** OLE2 inconsistency: SSCS size is 0 but SSAT size is non-zero\n",
      "WARNING *** OLE2 inconsistency: SSCS size is 0 but SSAT size is non-zero\n",
      "WARNING *** OLE2 inconsistency: SSCS size is 0 but SSAT size is non-zero\n",
      "WARNING *** OLE2 inconsistency: SSCS size is 0 but SSAT size is non-zero\n",
      "WARNING *** OLE2 inconsistency: SSCS size is 0 but SSAT size is non-zeroWARNING *** OLE2 inconsistency: SSCS size is 0 but SSAT size is non-zero\n",
      "\n",
      "WARNING *** OLE2 inconsistency: SSCS size is 0 but SSAT size is non-zero\n",
      "WARNING *** OLE2 inconsistency: SSCS size is 0 but SSAT size is non-zero\n",
      "WARNING *** OLE2 inconsistency: SSCS size is 0 but SSAT size is non-zero\n",
      "WARNING *** OLE2 inconsistency: SSCS size is 0 but SSAT size is non-zero\n",
      "WARNING *** OLE2 inconsistency: SSCS size is 0 but SSAT size is non-zero\n",
      "WARNING *** OLE2 inconsistency: SSCS size is 0 but SSAT size is non-zero\n",
      "WARNING *** OLE2 inconsistency: SSCS size is 0 but SSAT size is non-zero\n",
      "WARNING *** OLE2 inconsistency: SSCS size is 0 but SSAT size is non-zeroWARNING *** OLE2 inconsistency: SSCS size is 0 but SSAT size is non-zero\n",
      "\n",
      "WARNING *** OLE2 inconsistency: SSCS size is 0 but SSAT size is non-zero\n",
      "WARNING *** OLE2 inconsistency: SSCS size is 0 but SSAT size is non-zero\n",
      "WARNING *** OLE2 inconsistency: SSCS size is 0 but SSAT size is non-zero\n",
      "WARNING *** OLE2 inconsistency: SSCS size is 0 but SSAT size is non-zero\n",
      "WARNING *** OLE2 inconsistency: SSCS size is 0 but SSAT size is non-zero\n",
      "WARNING *** OLE2 inconsistency: SSCS size is 0 but SSAT size is non-zero\n",
      "WARNING *** OLE2 inconsistency: SSCS size is 0 but SSAT size is non-zero\n",
      "WARNING *** OLE2 inconsistency: SSCS size is 0 but SSAT size is non-zero\n",
      "WARNING *** OLE2 inconsistency: SSCS size is 0 but SSAT size is non-zero\n",
      "WARNING *** OLE2 inconsistency: SSCS size is 0 but SSAT size is non-zero\n",
      "WARNING *** OLE2 inconsistency: SSCS size is 0 but SSAT size is non-zero\n",
      "WARNING *** OLE2 inconsistency: SSCS size is 0 but SSAT size is non-zero\n",
      "WARNING *** OLE2 inconsistency: SSCS size is 0 but SSAT size is non-zero\n",
      "WARNING *** OLE2 inconsistency: SSCS size is 0 but SSAT size is non-zero\n",
      "WARNING *** OLE2 inconsistency: SSCS size is 0 but SSAT size is non-zero\n",
      "WARNING *** OLE2 inconsistency: SSCS size is 0 but SSAT size is non-zero\n",
      "WARNING *** OLE2 inconsistency: SSCS size is 0 but SSAT size is non-zero\n",
      "WARNING *** OLE2 inconsistency: SSCS size is 0 but SSAT size is non-zero\n",
      "WARNING *** OLE2 inconsistency: SSCS size is 0 but SSAT size is non-zero\n",
      "WARNING *** OLE2 inconsistency: SSCS size is 0 but SSAT size is non-zero\n",
      "WARNING *** OLE2 inconsistency: SSCS size is 0 but SSAT size is non-zero\n",
      "WARNING *** OLE2 inconsistency: SSCS size is 0 but SSAT size is non-zero\n",
      "WARNING *** OLE2 inconsistency: SSCS size is 0 but SSAT size is non-zero\n",
      "WARNING *** OLE2 inconsistency: SSCS size is 0 but SSAT size is non-zero\n",
      "WARNING *** OLE2 inconsistency: SSCS size is 0 but SSAT size is non-zero\n",
      "WARNING *** OLE2 inconsistency: SSCS size is 0 but SSAT size is non-zero\n",
      "WARNING *** OLE2 inconsistency: SSCS size is 0 but SSAT size is non-zeroWARNING *** OLE2 inconsistency: SSCS size is 0 but SSAT size is non-zero\n",
      "\n",
      "WARNING *** OLE2 inconsistency: SSCS size is 0 but SSAT size is non-zero\n",
      "WARNING *** OLE2 inconsistency: SSCS size is 0 but SSAT size is non-zero\n",
      "WARNING *** OLE2 inconsistency: SSCS size is 0 but SSAT size is non-zero\n",
      "WARNING *** OLE2 inconsistency: SSCS size is 0 but SSAT size is non-zero\n",
      "WARNING *** OLE2 inconsistency: SSCS size is 0 but SSAT size is non-zero\n",
      "WARNING *** OLE2 inconsistency: SSCS size is 0 but SSAT size is non-zero\n",
      "WARNING *** OLE2 inconsistency: SSCS size is 0 but SSAT size is non-zero\n",
      "WARNING *** OLE2 inconsistency: SSCS size is 0 but SSAT size is non-zero\n",
      "WARNING *** OLE2 inconsistency: SSCS size is 0 but SSAT size is non-zero\n",
      "WARNING *** OLE2 inconsistency: SSCS size is 0 but SSAT size is non-zero\n",
      "WARNING *** OLE2 inconsistency: SSCS size is 0 but SSAT size is non-zero\n",
      "WARNING *** OLE2 inconsistency: SSCS size is 0 but SSAT size is non-zero\n"
     ]
    }
   ],
   "source": [
    "# Ignore warnings for clean output\n",
    "warnings.filterwarnings(\"ignore\")\n",
    "\n",
    "# Define a function to read and concatenate files\n",
    "def read_and_concat_files(file_pattern):\n",
    "    file_paths = glob.glob(file_pattern)\n",
    "    with ThreadPoolExecutor() as executor:\n",
    "        df_list = list(executor.map(pd.read_excel, file_paths))\n",
    "    return pd.concat(df_list, ignore_index=True)\n",
    "\n",
    "# File patterns for each category\n",
    "file_patterns = {\n",
    "    \"Groupage\": \"C:\\\\Users\\\\tgsog\\\\OneDrive\\\\Desktop\\\\Visual Analytics\\\\Exam\\\\exam docs\\\\Groupage\\\\DatadumpProduct G*.xls\",\n",
    "    \"Innight\": \"C:\\\\Users\\\\tgsog\\\\OneDrive\\\\Desktop\\\\Visual Analytics\\\\Exam\\\\exam docs\\\\Innight\\\\DatadumpProduct E*.xls\",\n",
    "    \"Pallet\": \"C:\\\\Users\\\\tgsog\\\\OneDrive\\\\Desktop\\\\Visual Analytics\\\\Exam\\\\exam docs\\\\Pallet\\\\DatadumpProduct P*.xls\",\n",
    "    \"Road_Freight\": \"C:\\\\Users\\\\tgsog\\\\OneDrive\\\\Desktop\\\\Visual Analytics\\\\Exam\\\\exam docs\\\\Road_Freight\\\\DatadumpProduct R_*.xls\"\n",
    "}\n",
    "\n",
    "# Process each category\n",
    "pGdf = read_and_concat_files(file_patterns[\"Groupage\"])\n",
    "pIdf = read_and_concat_files(file_patterns[\"Innight\"])\n",
    "pPdf = read_and_concat_files(file_patterns[\"Pallet\"])\n",
    "pRdf = read_and_concat_files(file_patterns[\"Road_Freight\"])\n",
    "\n",
    "# Load additional static files (assuming these are smaller and don't need parallel processing)\n",
    "md_df = pd.read_excel(\"C:\\\\Users\\\\tgsog\\\\OneDrive\\\\Desktop\\\\Visual Analytics\\\\Exam\\\\exam docs\\\\Master data\\\\ADS_DDS_RF_CustomerNumbers_MasterData.xlsx\")\n",
    "rf_df = pd.read_excel(\"C:\\\\Users\\\\tgsog\\\\OneDrive\\\\Desktop\\\\Visual Analytics\\\\Exam\\\\exam docs\\\\Master data\\\\ADS_DDS_RF_CustomerNumbers_MasterData - road freight.xlsx\")\n",
    "\n",
    "md_df.columns = ['Customer_ID', 'Main Customer', 'Industry Level 1', 'Industry Level 2','System', 'Allocated SAP Number']"
   ]
  },
  {
   "cell_type": "markdown",
   "id": "8e4617ca-6dfa-49dc-a769-e9faffd8ad73",
   "metadata": {},
   "source": [
    "### making a column names list for all geo data"
   ]
  },
  {
   "cell_type": "code",
   "execution_count": 92,
   "id": "da85c02d-318a-4b47-906a-5eb107c3e673",
   "metadata": {},
   "outputs": [],
   "source": [
    "geo_columns = [\"country code\",     #: iso country code, 2 characters\n",
    "\"postal code\",       #: varchar(20)\n",
    "\"place name\",        #: varchar(180)\n",
    "\"admin name1\",       #: 1. order subdivision (state) varchar(100)\n",
    "\"admin code1\",       #: 1. order subdivision (state) varchar(20)\n",
    "\"admin name2\",       #: 2. order subdivision (county/province) varchar(100)\n",
    "\"admin code2\",       #: 2. order subdivision (county/province) varchar(20)\n",
    "\"admin name3\",       #: 3. order subdivision (community) varchar(100)\n",
    "\"admin code3\",       #: 3. order subdivision (community) varchar(20)\n",
    "\"latitude\",          #: estimated latitude (wgs84)\n",
    "\"longitude\",         #: estimated longitude (wgs84)\n",
    "\"accuracy\"]          #: accuracy of lat/lng from 1=estimated, 4=geonameid, 6=centroid of addresses or shape"
   ]
  },
  {
   "cell_type": "markdown",
   "id": "f309c459-88df-480b-9f42-7f17fff44036",
   "metadata": {},
   "source": [
    "### Loading geo data - and concatinating"
   ]
  },
  {
   "cell_type": "code",
   "execution_count": 93,
   "id": "42b95f65-17d9-4591-9996-08dce1eb14bc",
   "metadata": {},
   "outputs": [],
   "source": [
    "gn_no = pd.read_csv(\"C:\\\\Users\\\\tgsog\\\\OneDrive\\\\Desktop\\\\Visual Analytics\\\\Geonames data\\\\NO.csv\",header = None, names = geo_columns,sep = \"\\t\")\n",
    "gn_dk =pd.read_csv(\"C:\\\\Users\\\\tgsog\\\\OneDrive\\\\Desktop\\\\Visual Analytics\\\\Geonames data\\\\DK.csv\",header = None,names = geo_columns, sep = \"\\t\")\n",
    "gn_se = pd.read_csv(\"C:\\\\Users\\\\tgsog\\\\OneDrive\\\\Desktop\\\\Visual Analytics\\\\Geonames data\\\\SE.csv\", header = None, names =geo_columns ,sep = \"\\t\")\n",
    "gn_se[\"postal code\"] =gn_se[\"postal code\"].str.replace(\" \",\"\")\n",
    "geo_df = pd.concat([gn_no,gn_dk,gn_se])\n",
    "geo_df[\"postal code\"] = geo_df[\"postal code\"].astype(\"int\")"
   ]
  },
  {
   "cell_type": "markdown",
   "id": "50a69636-08f5-4fb7-8877-77ca2643a165",
   "metadata": {},
   "source": [
    "## DDS groupage - cleaning"
   ]
  },
  {
   "cell_type": "code",
   "execution_count": 94,
   "id": "7b1e283c-fcb9-4959-b08b-679a4743cbb4",
   "metadata": {},
   "outputs": [],
   "source": [
    "#Filling NAs and removing PKK\n",
    "pGdf[\"Parcel/Pallet type\"] =pGdf[\"Parcel/Pallet type\"].fillna(\"PLL\")\n",
    "pGdf[\"Parcel/Pallet type\"] = pGdf[\"Parcel/Pallet type\"].replace(\"PKK\",\"SPL\")\n",
    "\n",
    "#Remove columns\n",
    "pGdf = pGdf.drop(columns=[\"Base_Price\",\"Freight calc_ status\"])\n",
    "\n",
    "#Exclude parcels above 2500KG\n",
    "pGdf =pGdf[pGdf[\"ConsignorWeight\"]<=2500]"
   ]
  },
  {
   "cell_type": "markdown",
   "id": "e1fc00fc-65a6-43c9-86ba-85e69c3380cd",
   "metadata": {},
   "source": [
    "## DDS innight - cleaning"
   ]
  },
  {
   "cell_type": "code",
   "execution_count": 95,
   "id": "55b5802f-e4a0-49f8-87f6-0db7bef4cbca",
   "metadata": {},
   "outputs": [],
   "source": [
    "#Filling NAs and removing PKK\n",
    "pIdf[\"Parcel/Pallet type\"] =pIdf[\"Parcel/Pallet type\"].fillna(\"PLL\")\n",
    "pIdf[\"Parcel/Pallet type\"] = pIdf[\"Parcel/Pallet type\"].replace(\"PKK\",\"SPL\")\n",
    "\n",
    "#Remove columns\n",
    "pIdf = pIdf.drop(columns=[\"Base_Price\",\"Freight calc_ status\"])"
   ]
  },
  {
   "cell_type": "markdown",
   "id": "3fbfd4b5-b1ce-4776-ad2b-9696da9e9d3b",
   "metadata": {},
   "source": [
    "## DDS pallet - cleaning"
   ]
  },
  {
   "cell_type": "code",
   "execution_count": 96,
   "id": "50409583-157e-461e-860f-c41af7e4df39",
   "metadata": {},
   "outputs": [],
   "source": [
    "#Filling NAs and removing PKK\n",
    "pPdf[\"Parcel/Pallet type\"] =pPdf[\"Parcel/Pallet type\"].fillna(\"PLL\")\n",
    "pPdf[\"Parcel/Pallet type\"] = pPdf[\"Parcel/Pallet type\"].replace(\"PKK\",\"SPL\")\n",
    "\n",
    "#Remove columns\n",
    "pPdf = pPdf.drop(columns=[\"Base_Price\",\"Freight calc_ status\"])\n",
    "\n",
    "pPdf = pPdf[pPdf[\"ConsignorWeight\"]<=1000]"
   ]
  },
  {
   "cell_type": "markdown",
   "id": "b6b33fda-b3f6-48d5-be1c-7aebcad4640e",
   "metadata": {},
   "source": [
    "## DDS road_freight - cleaning"
   ]
  },
  {
   "cell_type": "code",
   "execution_count": 97,
   "id": "338ae09e-08d1-4016-aff1-f8213b30cc55",
   "metadata": {},
   "outputs": [],
   "source": [
    "#Filling NAs and removing PKK\n",
    "pRdf[\"Parcel/Pallet type\"] =pRdf[\"Parcel/Pallet type\"].fillna(\"PLL\")\n",
    "pRdf[\"Parcel/Pallet type\"] = pRdf[\"Parcel/Pallet type\"].replace(\"PKK\",\"SPL\")\n",
    "\n",
    "#Remove columns\n",
    "pRdf = pRdf.drop(columns=[\"Base_Price\",\"Freight calc_ status\"])"
   ]
  },
  {
   "cell_type": "markdown",
   "id": "32999f18-bea0-478c-adb8-4cd13ab702ed",
   "metadata": {},
   "source": [
    "## Concatinate product data"
   ]
  },
  {
   "cell_type": "code",
   "execution_count": 98,
   "id": "14afd542-edb4-4e10-a0fe-261334d78ee7",
   "metadata": {},
   "outputs": [],
   "source": [
    "df  = pd.concat([pRdf,pPdf, pIdf,pGdf])"
   ]
  },
  {
   "cell_type": "markdown",
   "id": "a20bae05-e0d6-4c24-b1eb-334f61630d41",
   "metadata": {},
   "source": [
    "## Exclude duplicate shipping numbers (should be unique per order)"
   ]
  },
  {
   "cell_type": "code",
   "execution_count": 99,
   "id": "e22d4b23-a9e4-411f-b322-8ca7412d9d36",
   "metadata": {},
   "outputs": [],
   "source": [
    "df = df.dropna(subset =\"Shipment Tracking Number\")"
   ]
  },
  {
   "cell_type": "markdown",
   "id": "d0ded088-e614-48c3-a7d6-eca00013f301",
   "metadata": {},
   "source": [
    "## Left Join: masterdata on product data"
   ]
  },
  {
   "cell_type": "code",
   "execution_count": 100,
   "id": "da37f238-6670-4a63-9c9e-1a39c849f55d",
   "metadata": {},
   "outputs": [],
   "source": [
    "df = df.merge(md_df, left_on=\"Customer_ID\", right_on=\"Customer_ID\")"
   ]
  },
  {
   "cell_type": "markdown",
   "id": "dc1ee5d5-7532-4b0d-89dd-7760e257184f",
   "metadata": {},
   "source": [
    "## Left Join: geo data on product data (for both consignor / consignees)"
   ]
  },
  {
   "cell_type": "code",
   "execution_count": 101,
   "id": "c71859fc-7472-4e8a-ac60-f9dbd9116c58",
   "metadata": {},
   "outputs": [],
   "source": [
    "#Making new column names for the consignor, consignee - additions\n",
    "#Consignor list of columns\n",
    "dk_l =[]\n",
    "for x in gn_dk.columns:\n",
    "    dk_l.append(\"consigner_\"+x)\n",
    "    \n",
    "#consignee list of columns\n",
    "geo_l =[]\n",
    "for x in geo_df.columns:\n",
    "    geo_l.append(\"conignee_\"+x)\n",
    "    \n",
    "#Assigning column names\n",
    "gn_dk.columns = dk_l\n",
    "geo_df.columns = geo_l"
   ]
  },
  {
   "cell_type": "code",
   "execution_count": 102,
   "id": "18a810c7-d96c-40f5-9481-e5b11d70ace2",
   "metadata": {},
   "outputs": [],
   "source": [
    "#Consignor-mergning on location master data files\n",
    "df =df.merge(gn_dk, left_on =[\"ConsignorCountryCode\",\"Consignor Location Nr\"], right_on =[\"consigner_country code\", \"consigner_postal code\"])\n",
    "\n",
    "#Consignee-mergning on location master data files\n",
    "df = df.merge(geo_df, left_on = [\"ConsigneeCountryCode\",\"Consignee Location Nr\"],right_on =[\"conignee_country code\",\"conignee_postal code\"])"
   ]
  },
  {
   "cell_type": "markdown",
   "id": "d32aefc6-20a8-4ca6-9f64-7799143f4239",
   "metadata": {},
   "source": [
    "## Making sure there are no shipment NA, and no duplicated rows"
   ]
  },
  {
   "cell_type": "code",
   "execution_count": 103,
   "id": "df02a5f4-9f4d-4cd1-b578-fa01a34e533c",
   "metadata": {},
   "outputs": [],
   "source": [
    "df = df.dropna(subset =\"Shipment Tracking Number\")\n",
    "df = df.drop_duplicates()"
   ]
  },
  {
   "cell_type": "markdown",
   "id": "34730275-399d-4194-b15f-aef2405970f1",
   "metadata": {},
   "source": [
    "# Cleaned dataset for PostNord"
   ]
  },
  {
   "cell_type": "code",
   "execution_count": 104,
   "id": "e977bd03-8c38-4435-8b37-e6351c7b2d32",
   "metadata": {},
   "outputs": [
    {
     "data": {
      "text/html": [
       "<div>\n",
       "<style scoped>\n",
       "    .dataframe tbody tr th:only-of-type {\n",
       "        vertical-align: middle;\n",
       "    }\n",
       "\n",
       "    .dataframe tbody tr th {\n",
       "        vertical-align: top;\n",
       "    }\n",
       "\n",
       "    .dataframe thead th {\n",
       "        text-align: right;\n",
       "    }\n",
       "</style>\n",
       "<table border=\"1\" class=\"dataframe\">\n",
       "  <thead>\n",
       "    <tr style=\"text-align: right;\">\n",
       "      <th></th>\n",
       "      <th>Customer_ID</th>\n",
       "      <th>ConsignorCountryCode</th>\n",
       "      <th>Consignor Location Nr</th>\n",
       "      <th>ConsigneeCountryCode</th>\n",
       "      <th>Consignee Location Nr</th>\n",
       "      <th>Product</th>\n",
       "      <th>Parcel/Pallet type</th>\n",
       "      <th>Shipment Tracking Number</th>\n",
       "      <th>ShipmentDate</th>\n",
       "      <th>ConsignorParcelCount</th>\n",
       "      <th>...</th>\n",
       "      <th>conignee_place name</th>\n",
       "      <th>conignee_admin name1</th>\n",
       "      <th>conignee_admin code1</th>\n",
       "      <th>conignee_admin name2</th>\n",
       "      <th>conignee_admin code2</th>\n",
       "      <th>conignee_admin name3</th>\n",
       "      <th>conignee_admin code3</th>\n",
       "      <th>conignee_latitude</th>\n",
       "      <th>conignee_longitude</th>\n",
       "      <th>conignee_accuracy</th>\n",
       "    </tr>\n",
       "  </thead>\n",
       "  <tbody>\n",
       "    <tr>\n",
       "      <th>0</th>\n",
       "      <td>EAAAAAEIE</td>\n",
       "      <td>DK</td>\n",
       "      <td>4690</td>\n",
       "      <td>NO</td>\n",
       "      <td>951</td>\n",
       "      <td>R</td>\n",
       "      <td>PLL</td>\n",
       "      <td>5DO5Z8COO5C44A686</td>\n",
       "      <td>2019-08-13</td>\n",
       "      <td>1</td>\n",
       "      <td>...</td>\n",
       "      <td>Oslo</td>\n",
       "      <td>Oslo County</td>\n",
       "      <td>12</td>\n",
       "      <td>Oslo</td>\n",
       "      <td>301.0</td>\n",
       "      <td>NaN</td>\n",
       "      <td>NaN</td>\n",
       "      <td>59.9127</td>\n",
       "      <td>10.7461</td>\n",
       "      <td>4.0</td>\n",
       "    </tr>\n",
       "    <tr>\n",
       "      <th>1</th>\n",
       "      <td>HDHIAAABH</td>\n",
       "      <td>DK</td>\n",
       "      <td>8270</td>\n",
       "      <td>NO</td>\n",
       "      <td>566</td>\n",
       "      <td>R</td>\n",
       "      <td>PLL</td>\n",
       "      <td>5DO5Z8COO5C8A4ODD</td>\n",
       "      <td>2019-08-20</td>\n",
       "      <td>33</td>\n",
       "      <td>...</td>\n",
       "      <td>Oslo</td>\n",
       "      <td>Oslo County</td>\n",
       "      <td>12</td>\n",
       "      <td>Oslo</td>\n",
       "      <td>301.0</td>\n",
       "      <td>NaN</td>\n",
       "      <td>NaN</td>\n",
       "      <td>59.9127</td>\n",
       "      <td>10.7461</td>\n",
       "      <td>4.0</td>\n",
       "    </tr>\n",
       "    <tr>\n",
       "      <th>2</th>\n",
       "      <td>HDHIAAABH</td>\n",
       "      <td>DK</td>\n",
       "      <td>8270</td>\n",
       "      <td>NO</td>\n",
       "      <td>566</td>\n",
       "      <td>R</td>\n",
       "      <td>PLL</td>\n",
       "      <td>5DO5Z8COO5C8DZ5B6</td>\n",
       "      <td>2019-08-21</td>\n",
       "      <td>33</td>\n",
       "      <td>...</td>\n",
       "      <td>Oslo</td>\n",
       "      <td>Oslo County</td>\n",
       "      <td>12</td>\n",
       "      <td>Oslo</td>\n",
       "      <td>301.0</td>\n",
       "      <td>NaN</td>\n",
       "      <td>NaN</td>\n",
       "      <td>59.9127</td>\n",
       "      <td>10.7461</td>\n",
       "      <td>4.0</td>\n",
       "    </tr>\n",
       "    <tr>\n",
       "      <th>3</th>\n",
       "      <td>HDHIAAABH</td>\n",
       "      <td>DK</td>\n",
       "      <td>8270</td>\n",
       "      <td>NO</td>\n",
       "      <td>566</td>\n",
       "      <td>R</td>\n",
       "      <td>PLL</td>\n",
       "      <td>5DO5Z8COO5CZ58C5A</td>\n",
       "      <td>2019-08-22</td>\n",
       "      <td>33</td>\n",
       "      <td>...</td>\n",
       "      <td>Oslo</td>\n",
       "      <td>Oslo County</td>\n",
       "      <td>12</td>\n",
       "      <td>Oslo</td>\n",
       "      <td>301.0</td>\n",
       "      <td>NaN</td>\n",
       "      <td>NaN</td>\n",
       "      <td>59.9127</td>\n",
       "      <td>10.7461</td>\n",
       "      <td>4.0</td>\n",
       "    </tr>\n",
       "    <tr>\n",
       "      <th>4</th>\n",
       "      <td>HDHIAAABH</td>\n",
       "      <td>DK</td>\n",
       "      <td>8270</td>\n",
       "      <td>NO</td>\n",
       "      <td>566</td>\n",
       "      <td>R</td>\n",
       "      <td>PLL</td>\n",
       "      <td>5DO5Z8COO54OBCBB5</td>\n",
       "      <td>2019-08-23</td>\n",
       "      <td>33</td>\n",
       "      <td>...</td>\n",
       "      <td>Oslo</td>\n",
       "      <td>Oslo County</td>\n",
       "      <td>12</td>\n",
       "      <td>Oslo</td>\n",
       "      <td>301.0</td>\n",
       "      <td>NaN</td>\n",
       "      <td>NaN</td>\n",
       "      <td>59.9127</td>\n",
       "      <td>10.7461</td>\n",
       "      <td>4.0</td>\n",
       "    </tr>\n",
       "  </tbody>\n",
       "</table>\n",
       "<p>5 rows × 52 columns</p>\n",
       "</div>"
      ],
      "text/plain": [
       "  Customer_ID ConsignorCountryCode  Consignor Location Nr  \\\n",
       "0   EAAAAAEIE                   DK                   4690   \n",
       "1   HDHIAAABH                   DK                   8270   \n",
       "2   HDHIAAABH                   DK                   8270   \n",
       "3   HDHIAAABH                   DK                   8270   \n",
       "4   HDHIAAABH                   DK                   8270   \n",
       "\n",
       "  ConsigneeCountryCode  Consignee Location Nr Product Parcel/Pallet type  \\\n",
       "0                   NO                    951       R                PLL   \n",
       "1                   NO                    566       R                PLL   \n",
       "2                   NO                    566       R                PLL   \n",
       "3                   NO                    566       R                PLL   \n",
       "4                   NO                    566       R                PLL   \n",
       "\n",
       "  Shipment Tracking Number ShipmentDate  ConsignorParcelCount  ...  \\\n",
       "0        5DO5Z8COO5C44A686   2019-08-13                     1  ...   \n",
       "1        5DO5Z8COO5C8A4ODD   2019-08-20                    33  ...   \n",
       "2        5DO5Z8COO5C8DZ5B6   2019-08-21                    33  ...   \n",
       "3        5DO5Z8COO5CZ58C5A   2019-08-22                    33  ...   \n",
       "4        5DO5Z8COO54OBCBB5   2019-08-23                    33  ...   \n",
       "\n",
       "   conignee_place name  conignee_admin name1  conignee_admin code1  \\\n",
       "0                 Oslo           Oslo County                    12   \n",
       "1                 Oslo           Oslo County                    12   \n",
       "2                 Oslo           Oslo County                    12   \n",
       "3                 Oslo           Oslo County                    12   \n",
       "4                 Oslo           Oslo County                    12   \n",
       "\n",
       "   conignee_admin name2  conignee_admin code2  conignee_admin name3  \\\n",
       "0                  Oslo                 301.0                   NaN   \n",
       "1                  Oslo                 301.0                   NaN   \n",
       "2                  Oslo                 301.0                   NaN   \n",
       "3                  Oslo                 301.0                   NaN   \n",
       "4                  Oslo                 301.0                   NaN   \n",
       "\n",
       "   conignee_admin code3  conignee_latitude  conignee_longitude  \\\n",
       "0                   NaN            59.9127             10.7461   \n",
       "1                   NaN            59.9127             10.7461   \n",
       "2                   NaN            59.9127             10.7461   \n",
       "3                   NaN            59.9127             10.7461   \n",
       "4                   NaN            59.9127             10.7461   \n",
       "\n",
       "   conignee_accuracy  \n",
       "0                4.0  \n",
       "1                4.0  \n",
       "2                4.0  \n",
       "3                4.0  \n",
       "4                4.0  \n",
       "\n",
       "[5 rows x 52 columns]"
      ]
     },
     "execution_count": 104,
     "metadata": {},
     "output_type": "execute_result"
    }
   ],
   "source": [
    "df.head()"
   ]
  },
  {
   "cell_type": "code",
   "execution_count": null,
   "id": "b2dde9d8-3c29-4c90-91ff-e306978cf8fb",
   "metadata": {},
   "outputs": [],
   "source": [
    "# Writing dataset"
   ]
  },
  {
   "cell_type": "code",
   "execution_count": null,
   "id": "f71eda42-7750-4043-814d-f188d19c5a41",
   "metadata": {},
   "outputs": [],
   "source": [
    "df.to_csv(\"C:\\Users\\tgsog\\OneDrive\\Desktop\\\\Visual Analytics\\\\Exam\\\\PostNordData.csv\", index=False)\n"
   ]
  }
 ],
 "metadata": {
  "kernelspec": {
   "display_name": "Python 3 (ipykernel)",
   "language": "python",
   "name": "python3"
  },
  "language_info": {
   "codemirror_mode": {
    "name": "ipython",
    "version": 3
   },
   "file_extension": ".py",
   "mimetype": "text/x-python",
   "name": "python",
   "nbconvert_exporter": "python",
   "pygments_lexer": "ipython3",
   "version": "3.11.9"
  }
 },
 "nbformat": 4,
 "nbformat_minor": 5
}
